{
 "cells": [
  {
   "cell_type": "markdown",
   "id": "daa86fcc",
   "metadata": {},
   "source": [
    "# fase 5 Encontrar posicion de la historia laboral"
   ]
  },
  {
   "cell_type": "code",
   "execution_count": null,
   "id": "e77cb82d",
   "metadata": {},
   "outputs": [],
   "source": [
    "from pathlib import Path\n",
    "import shutil\n",
    "import unicodedata\n",
    "\n",
    "def normalize_name(s: str) -> str:\n",
    "    \"\"\"\n",
    "    Convierte a minúsculas, elimina tildes, '_'→espacio y colapsa espacios repetidos.\n",
    "    \"\"\"\n",
    "    s = s.strip().lower().replace('_', ' ')\n",
    "    s = ''.join(\n",
    "        c for c in unicodedata.normalize('NFKD', s)\n",
    "        if not unicodedata.combining(c)\n",
    "    )\n",
    "    return ' '.join(s.split())\n",
    "\n",
    "def build_control_map(control_dir: Path, suffix: str = '_hoja_control') -> dict:\n",
    "    \"\"\"\n",
    "    Crea un diccionario { nombre_normalizado -> Path(al Excel) }.\n",
    "    \"\"\"\n",
    "    mapping = {}\n",
    "    for xlsx in control_dir.glob(f'*{suffix}*.xlsx'):\n",
    "        stem = xlsx.stem\n",
    "        person = stem[:-len(suffix)] if stem.lower().endswith(suffix) else stem\n",
    "        key = normalize_name(person)\n",
    "        mapping[key] = xlsx\n",
    "    return mapping\n",
    "\n",
    "def distribute_and_overwrite_excels(control_map: dict, pdf_root: Path):\n",
    "    \"\"\"\n",
    "    Recorre pdf_root buscando PDFs; si coincide el nombre, copia el Excel junto al PDF,\n",
    "    **sobrescribiendo** cualquier archivo con el mismo nombre.\n",
    "    \"\"\"\n",
    "    for pdf in pdf_root.rglob('*.pdf'):\n",
    "        name = normalize_name(pdf.stem)\n",
    "        excel = control_map.get(name)\n",
    "        if excel:\n",
    "            dst = pdf.parent / excel.name\n",
    "            shutil.copy2(excel, dst)\n",
    "            print(f'↻ Sobrescrito {excel.name} → {pdf.parent}')\n",
    "        else:\n",
    "            print(f'⚠ Sin control para {pdf.name}')\n",
    "\n",
    "# ——— Aquí defines tus rutas ———\n",
    "control_dir = Path(r\"C:\\Users\\juans\\Downloads\\dev_prev\\formato final\\salida\")    # carpeta con *_hoja_control.xlsx\n",
    "pdf_root    = Path(r\"C:\\Users\\juans\\Documents\\resource\\historias\\_01_historias\")     # carpeta raíz donde buscar PDFs\n",
    "\n",
    "\n",
    "# ——— Ejecutar ———\n",
    "control_map = build_control_map(control_dir)\n",
    "print(f\"> Encontradas {len(control_map)} hojas de control en '{control_dir}'\\n\")\n",
    "distribute_and_overwrite_excels(control_map, pdf_root)"
   ]
  }
 ],
 "metadata": {
  "language_info": {
   "name": "python"
  }
 },
 "nbformat": 4,
 "nbformat_minor": 5
}
