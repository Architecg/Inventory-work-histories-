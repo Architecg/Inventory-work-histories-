{
 "cells": [
  {
   "cell_type": "markdown",
   "id": "c3d45d80",
   "metadata": {},
   "source": [
    "# Encontrar asignacion del fuid"
   ]
  },
  {
   "cell_type": "code",
   "execution_count": null,
   "id": "848f199d",
   "metadata": {
    "vscode": {
     "languageId": "plaintext"
    }
   },
   "outputs": [],
   "source": [
    "import os\n",
    "import pandas as pd\n",
    "from openpyxl import load_workbook\n",
    "\n",
    "# ————— CONFIGURA ESTO —————\n",
    "# Ruta al Excel maestro con las columnas: nombre, cedula, depe, ser, subs\n",
    "DATA_PATH      = r'C:\\Users\\juans\\Downloads\\dev_prev\\resources\\salida_asuntos_v2.xlsx'\n",
    "# Carpeta donde están tus archivos *_hoja_control.xlsx\n",
    "TEMPLATE_DIR   = r'C:\\Users\\juans\\Documents\\proarchitecg\\version_2_docker\\model_clasification_image_v2\\answer\\hojas_control'\n",
    "# Carpeta donde quieres que se guarden las hojas ya completadas\n",
    "OUTPUT_DIR     = r'C:\\Users\\juans\\Downloads\\dev_prev\\formato final\\salida'\n",
    "# Nombre de la hoja dentro de cada libro (si no es la primera hoja cambia este valor)\n",
    "SHEET_NAME     = None  # None = primera hoja activa\n",
    "# ————————————————————————"
   ]
  },
  {
   "cell_type": "code",
   "execution_count": null,
   "id": "46c2416f",
   "metadata": {
    "vscode": {
     "languageId": "plaintext"
    }
   },
   "outputs": [],
   "source": [
    "# 1) Carga el maestro y prepara la columna de matching\n",
    "df = pd.read_excel(DATA_PATH, dtype={'cedula':str})\n",
    "df['nombre_up'] = df['nombre'].str.upper().str.strip()\n",
    "\n",
    "# 2) Define el mapeo de 'depe' → valores de D6,D7,D8,D9\n",
    "DEPE_MAP = {\n",
    "    30000: {\n",
    "        'D6': 'COMISIÓN DE LA MESA',\n",
    "        'D7': 'SECRETARÍA GENERAL',\n",
    "        'D8': 'HISTORIAS LABORALES',\n",
    "        'D9': '',\n",
    "    },\n",
    "    4100: {\n",
    "        'D6': 'DIRECCIÓN ADMINISTRATIVA',\n",
    "        'D7': 'DIVISIÓN DE PERSONAL',\n",
    "        'D8': 'HISTORIAS',\n",
    "        'D9': 'Historias laborales (UTL - ADMINISTRATIVAS)',\n",
    "    },\n",
    "    13000: {\n",
    "        'D6': 'PRESIDENCIA',\n",
    "        'D7': 'SECRETARÍA GENERAL',\n",
    "        'D8': 'HISTORIAS LABORALES',\n",
    "        'D9': '',\n",
    "    },\n",
    "    810: {\n",
    "        'D6': 'DIRECCIÓN ADMINISTRATIVA',\n",
    "        'D7': 'DIVISIÓN DE PERSONAL',\n",
    "        'D8': 'HISTORIAS LABORALES',\n",
    "        'D9': '',\n",
    "    },\n",
    "}\n",
    "\n",
    "os.makedirs(OUTPUT_DIR, exist_ok=True)\n",
    "\n",
    "for fname in os.listdir(TEMPLATE_DIR):\n",
    "    if not fname.lower().endswith('_hoja_control.xlsx'):\n",
    "        continue\n",
    "\n",
    "    path_in = os.path.join(TEMPLATE_DIR, fname)\n",
    "    nombre_archivo = fname.replace('_hoja_control.xlsx','')\n",
    "    key = nombre_archivo.upper().strip()\n",
    "\n",
    "    match = df.loc[df['nombre_up'] == key]\n",
    "    if match.empty:\n",
    "        print(f'⚠️ No encontré \"{nombre_archivo}\" en el maestro. Se salta.')\n",
    "        continue\n",
    "\n",
    "    cedula = match.iloc[0]['cedula']\n",
    "    depe   = int(match.iloc[0]['depe'])\n",
    "    info   = DEPE_MAP.get(depe)\n",
    "    if info is None:\n",
    "        print(f'⚠️ Valor de depe={depe} no mapeado para \"{nombre_archivo}\". Se salta.')\n",
    "        continue\n",
    "\n",
    "    wb = load_workbook(path_in)\n",
    "    ws = wb[SHEET_NAME] if SHEET_NAME in wb.sheetnames else wb.active\n",
    "\n",
    "    # ——— NUEVA LÍNEA: reemplazar título combinado A11:C11 ———\n",
    "    ws['A11'] = \"N° IDENTIFICACION:\"\n",
    "    # (la celda A11 está combinada con B11 y C11, así que basta con escribir en A11)\n",
    "\n",
    "    # Relleno de datos\n",
    "    ws['D10'] = nombre_archivo\n",
    "    ws['D11'] = cedula\n",
    "    ws['D6']  = info['D6']\n",
    "    ws['D7']  = info['D7']\n",
    "    ws['D8']  = info['D8']\n",
    "    ws['D9']  = info['D9']\n",
    "\n",
    "    path_out = os.path.join(OUTPUT_DIR, fname)\n",
    "    wb.save(path_out)\n",
    "    print(f'✅ Generado: {path_out}')"
   ]
  },
  {
   "cell_type": "markdown",
   "id": "95b35757",
   "metadata": {},
   "source": [
    "# Encontrar posicion de la historia laboral"
   ]
  },
  {
   "cell_type": "code",
   "execution_count": null,
   "id": "6ffe1ef6",
   "metadata": {
    "vscode": {
     "languageId": "plaintext"
    }
   },
   "outputs": [],
   "source": [
    "from pathlib import Path\n",
    "import shutil\n",
    "import unicodedata\n",
    "\n",
    "def normalize_name(s: str) -> str:\n",
    "    \"\"\"\n",
    "    Convierte a minúsculas, elimina tildes, '_'→espacio y colapsa espacios repetidos.\n",
    "    \"\"\"\n",
    "    s = s.strip().lower().replace('_', ' ')\n",
    "    s = ''.join(\n",
    "        c for c in unicodedata.normalize('NFKD', s)\n",
    "        if not unicodedata.combining(c)\n",
    "    )\n",
    "    return ' '.join(s.split())\n",
    "\n",
    "def build_control_map(control_dir: Path, suffix: str = '_hoja_control') -> dict:\n",
    "    \"\"\"\n",
    "    Crea un diccionario { nombre_normalizado -> Path(al Excel) }.\n",
    "    \"\"\"\n",
    "    mapping = {}\n",
    "    for xlsx in control_dir.glob(f'*{suffix}*.xlsx'):\n",
    "        stem = xlsx.stem\n",
    "        person = stem[:-len(suffix)] if stem.lower().endswith(suffix) else stem\n",
    "        key = normalize_name(person)\n",
    "        mapping[key] = xlsx\n",
    "    return mapping\n",
    "\n",
    "def distribute_and_overwrite_excels(control_map: dict, pdf_root: Path):\n",
    "    \"\"\"\n",
    "    Recorre pdf_root buscando PDFs; si coincide el nombre, copia el Excel junto al PDF,\n",
    "    **sobrescribiendo** cualquier archivo con el mismo nombre.\n",
    "    \"\"\"\n",
    "    for pdf in pdf_root.rglob('*.pdf'):\n",
    "        name = normalize_name(pdf.stem)\n",
    "        excel = control_map.get(name)\n",
    "        if excel:\n",
    "            dst = pdf.parent / excel.name\n",
    "            shutil.copy2(excel, dst)\n",
    "            print(f'↻ Sobrescrito {excel.name} → {pdf.parent}')\n",
    "        else:\n",
    "            print(f'⚠ Sin control para {pdf.name}')\n",
    "\n",
    "# ——— Aquí defines tus rutas ———\n",
    "control_dir = Path(r\"C:\\Users\\juans\\Downloads\\dev_prev\\formato final\\salida\")    # carpeta con *_hoja_control.xlsx\n",
    "pdf_root    = Path(r\"C:\\Users\\juans\\Documents\\resource\\historias\\_01_historias\")     # carpeta raíz donde buscar PDFs\n",
    "\n",
    "\n",
    "# ——— Ejecutar ———\n",
    "control_map = build_control_map(control_dir)\n",
    "print(f\"> Encontradas {len(control_map)} hojas de control en '{control_dir}'\\n\")\n",
    "distribute_and_overwrite_excels(control_map, pdf_root)\n"
   ]
  }
 ],
 "metadata": {
  "language_info": {
   "name": "python"
  }
 },
 "nbformat": 4,
 "nbformat_minor": 5
}
