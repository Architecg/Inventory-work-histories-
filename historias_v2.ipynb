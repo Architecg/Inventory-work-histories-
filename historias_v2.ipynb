{
 "cells": [
  {
   "cell_type": "markdown",
   "id": "e02337e8",
   "metadata": {},
   "source": [
    "# Fase 1 "
   ]
  },
  {
   "cell_type": "code",
   "execution_count": null,
   "id": "abfd3f30",
   "metadata": {},
   "outputs": [],
   "source": [
    "import json\n",
    "from pathlib import Path\n",
    "from PIL import Image\n",
    "import pytesseract\n",
    "import fitz  # PyMuPDF\n",
    "\n",
    "# ——— Configuración de rutas ———\n",
    "PDF_ROOT_DIR = Path(r\"C:\\Users\\juans\\Documents\\resource\\historias\\_01_historias\")\n",
    "IMG_DIR      = Path(r\"C:\\Users\\juans\\Documents\\proarchitecg\\version_2_docker\\imagenes_por_doc\")\n",
    "RESULT_DIR   = Path(r\"C:\\Users\\juans\\Documents\\proarchitecg\\version_2_docker\\ocr_por_doc\")\n"
   ]
  },
  {
   "cell_type": "code",
   "execution_count": null,
   "id": "9af4c2d3",
   "metadata": {},
   "outputs": [],
   "source": [
    "\n",
    "# Asegúrate de apuntar a tu ejecutable de Tesseract si no está en el PATH\n",
    "pytesseract.pytesseract.tesseract_cmd = r\"C:\\Program Files\\Tesseract-OCR\\tesseract.exe\"\n",
    "\n",
    "IMG_DIR.mkdir(parents=True, exist_ok=True)\n",
    "RESULT_DIR.mkdir(parents=True, exist_ok=True)\n",
    "\n",
    "def convertir_pdf_a_imagenes(pdf_path: Path, out_dir: Path) -> list[tuple[int, Path]]:\n",
    "    doc = fitz.open(pdf_path)\n",
    "    out_dir.mkdir(parents=True, exist_ok=True)\n",
    "    rutas = []\n",
    "    for i in range(len(doc)):\n",
    "        pix = doc[i].get_pixmap(dpi=300)\n",
    "        img_path = out_dir / f\"pagina_{i+1}.png\"\n",
    "        pix.save(str(img_path))\n",
    "        rutas.append((i+1, img_path))\n",
    "    doc.close()\n",
    "    return rutas\n",
    "\n",
    "def aplicar_ocr(img_path: Path) -> str:\n",
    "    try:\n",
    "        texto = pytesseract.image_to_string(Image.open(img_path), lang=\"spa\")\n",
    "        return texto.strip()\n",
    "    except Exception as e:\n",
    "        print(f\"❌ Error OCR en {img_path.name}: {e}\")\n",
    "        return \"\"\n",
    "\n",
    "def procesar_pdf(pdf_path: Path, rel_path: Path):\n",
    "    print(f\"📄 Procesando {rel_path} …\")\n",
    "    img_out_dir = IMG_DIR / rel_path\n",
    "    paginas = convertir_pdf_a_imagenes(pdf_path, img_out_dir)\n",
    "\n",
    "    resultados = []\n",
    "    for num, img_path in paginas:\n",
    "        texto = aplicar_ocr(img_path)\n",
    "        resultados.append({\n",
    "            \"pagina\": num,\n",
    "            \"imagen\": str(img_path),\n",
    "            \"texto\": texto\n",
    "        })\n",
    "\n",
    "    json_path = RESULT_DIR / rel_path.with_suffix(\".json\")\n",
    "    json_path.parent.mkdir(parents=True, exist_ok=True)\n",
    "    with open(json_path, \"w\", encoding=\"utf-8\") as f:\n",
    "        json.dump(resultados, f, ensure_ascii=False, indent=2)\n",
    "\n",
    "    print(f\"✅ OCR completado: {rel_path}\")\n",
    "\n",
    "# ——— Recorrer y procesar PDFs ———\n",
    "for pdf_path in PDF_ROOT_DIR.rglob(\"*.pdf\"):\n",
    "    rel = pdf_path.relative_to(PDF_ROOT_DIR)\n",
    "    if (RESULT_DIR / rel.with_suffix(\".json\")).exists():\n",
    "        print(f\"⏩ Ya procesado: {rel}\")\n",
    "        continue\n",
    "    procesar_pdf(pdf_path, rel)\n",
    "\n",
    "# ——— Mostrar un ejemplo de salida ———\n",
    "json_files = list(RESULT_DIR.rglob(\"*.json\"))\n",
    "if json_files:\n",
    "    muestra = json_files[0]\n",
    "    print(f\"\\n📄 Primer resultado OCR: {muestra}\")\n",
    "    with open(muestra, encoding=\"utf-8\") as f:\n",
    "        datos = json.load(f)\n",
    "    import pprint; pprint.pprint(datos[:2])\n",
    "else:\n",
    "    print(f\"⚠️ No se generaron resultados en {RESULT_DIR}\")\n"
   ]
  }
 ],
 "metadata": {
  "kernelspec": {
   "display_name": "debug_yolo_env",
   "language": "python",
   "name": "python3"
  },
  "language_info": {
   "name": "python",
   "version": "3.9.23"
  }
 },
 "nbformat": 4,
 "nbformat_minor": 5
}
